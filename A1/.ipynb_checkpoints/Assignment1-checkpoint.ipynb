{
 "cells": [
  {
   "cell_type": "markdown",
   "metadata": {},
   "source": [
    "# EECS 531: Computer Vision Assignment 1\n",
    "**David Fan, dmf98**"
   ]
  },
  {
   "cell_type": "markdown",
   "metadata": {},
   "source": [
    "## Exercise 1: Blurring Filter\n",
    "Blurring filters are used to average out rapid changes in intensity. The image is blurred by comparing each pixel to its neighbors. This process is done by applying a convolution kernel to each pixel of the image. Some examples for possible convolution kernels include the box kernel, the bilinear kernel, and the \"Gaussian\" kernel."
   ]
  },
  {
   "cell_type": "code",
   "execution_count": null,
   "metadata": {
    "collapsed": true
   },
   "outputs": [],
   "source": [
    "open()"
   ]
  },
  {
   "cell_type": "markdown",
   "metadata": {},
   "source": [
    "## Exercise 2: Edge Detector\n",
    "Planning to use opencv or matplotlib's image processing functions for both Sobel and Canny. Will then just need to explain the math behind Sobel and Canny / their differences"
   ]
  },
  {
   "cell_type": "markdown",
   "metadata": {},
   "source": [
    "## Exercise 3: Feature Detector\n",
    "Not sure how this assignment differs from A0. We haven't really talked about feature detectors other than edge detectors and the pattern matching algorithm from A0."
   ]
  },
  {
   "cell_type": "markdown",
   "metadata": {},
   "source": [
    "## Exercise 4: ROC Curves\n",
    "This part will be easy other than separating signal from noise. Plotting ROC curves will be easily done with matplotlib and varying the confidence threshold (I've done this before in EECS 440). Separating signal from noise I'll have to go back to the slides about SNR."
   ]
  },
  {
   "cell_type": "code",
   "execution_count": null,
   "metadata": {
    "collapsed": true
   },
   "outputs": [],
   "source": []
  }
 ],
 "metadata": {
  "kernelspec": {
   "display_name": "Python 3",
   "language": "python",
   "name": "python3"
  },
  "language_info": {
   "codemirror_mode": {
    "name": "ipython",
    "version": 3
   },
   "file_extension": ".py",
   "mimetype": "text/x-python",
   "name": "python",
   "nbconvert_exporter": "python",
   "pygments_lexer": "ipython3",
   "version": "3.6.4"
  }
 },
 "nbformat": 4,
 "nbformat_minor": 2
}
