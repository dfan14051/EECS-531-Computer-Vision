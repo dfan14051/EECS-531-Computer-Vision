{
 "cells": [
  {
   "cell_type": "markdown",
   "metadata": {},
   "source": [
    "# EECS 531: Computer Vision Assignment 5\n",
    "**David Fan**\n",
    "\n",
    "5/2/18"
   ]
  },
  {
   "cell_type": "markdown",
   "metadata": {},
   "source": [
    "In this notebook we will be translating the geometric computer vision demo from MATLAB into Python and explaining what each section of the code does with math and relevant background."
   ]
  },
  {
   "cell_type": "markdown",
   "metadata": {},
   "source": [
    "## Prerequisites\n",
    "These are different from the demo since the ones in the demo are about setting up the Jupyter MATLAB kernel. Here we'll just be doing our standard imports."
   ]
  },
  {
   "cell_type": "code",
   "execution_count": 21,
   "metadata": {},
   "outputs": [],
   "source": [
    "import numpy as np\n",
    "import matplotlib.pyplot as plt\n",
    "from mpl_toolkits.mplot3d import Axes3D\n",
    "import mpl_toolkits.mplot3d as a3\n",
    "from matplotlib import patches"
   ]
  },
  {
   "cell_type": "markdown",
   "metadata": {},
   "source": [
    "## Build a Simple Virtual World\n",
    "\n",
    "### Add something into the world"
   ]
  },
  {
   "cell_type": "code",
   "execution_count": 3,
   "metadata": {},
   "outputs": [],
   "source": [
    "def create_points():\n",
    "    [Z, Y, X] = np.meshgrid([-0.5, 0, 0.5], [-0.5, 0, 0.5], [-0.5, 0., 0.5], indexing ='ij')\n",
    "    \n",
    "    # This could easily be wrong. MATLAB matrix to Numpy array conversion can get hairy.\n",
    "    # The line below attempts to match the matlab line: `points = [X(:), Y(:), Z(:)];`\n",
    "    # The difference between row major and column major may cause issues down the line though.\n",
    "    points = np.column_stack((X.flatten(order='F'), Y.flatten(order='F'), Z.flatten(order='F')))\n",
    "    \n",
    "    # No clue how to replicate MATLAB's Jet function\n",
    "    colors = None\n",
    "    \n",
    "    return (points, colors)"
   ]
  },
  {
   "cell_type": "markdown",
   "metadata": {},
   "source": [
    "This function is appropriately named. It returns a set of coordinates for points to be plotted later on as well as a color value for each point from the Jet colormap."
   ]
  },
  {
   "cell_type": "markdown",
   "metadata": {},
   "source": [
    "### Plot the points"
   ]
  },
  {
   "cell_type": "code",
   "execution_count": 14,
   "metadata": {},
   "outputs": [],
   "source": [
    "def plot_points(points, colors, size = 50):\n",
    "    fig, ax = plt.subplots(projection='3d')\n",
    "    ax.scatter(points[0], points[1], points[2], colors, size)\n",
    "    return (fig, ax)"
   ]
  },
  {
   "cell_type": "markdown",
   "metadata": {},
   "source": [
    "This is relatively straight forward. It simply creates a 3D scatter plot using a set of points and colors."
   ]
  },
  {
   "cell_type": "markdown",
   "metadata": {},
   "source": [
    "### Set up a pair of cameras"
   ]
  },
  {
   "cell_type": "code",
   "execution_count": 5,
   "metadata": {},
   "outputs": [],
   "source": [
    "def preset_cameras():\n",
    "    r = 5\n",
    "    focal_length = 0.06\n",
    "    width = 256\n",
    "    height = 256\n",
    "    film_width = 0.035\n",
    "    film_height = 0.035\n",
    "    \n",
    "    alpha = np.pi/6\n",
    "    beta = np.pi/6\n",
    "    cam1 = {\n",
    "        'position': [r * np.cos(beta) * np.cos(alpha) ,  r * np.cos(beta) * np.sin(alpha), r * np.sin(beta)],\n",
    "        'target': [0, 0, 0],\n",
    "        'up': [0, 0, 1],\n",
    "        'focal_length': focal_length,\n",
    "        'film_width': film_width,\n",
    "        'film_height': film_height,\n",
    "        'width': width,\n",
    "        'height': height\n",
    "    }\n",
    "    \n",
    "    alpha = np.pi/3\n",
    "    beta = np.pi/6\n",
    "    cam2 = {\n",
    "        'position': [r * np.cos(beta) * np.cos(alpha) ,  r * np.cos(beta) * np.sin(alpha), r * np.sin(beta)],\n",
    "        'target': [0, 0, 0],\n",
    "        'up': [0, 0, 1],\n",
    "        'focal_length': focal_length,\n",
    "        'film_width': film_width,\n",
    "        'film_height': film_height,\n",
    "        'width': width,\n",
    "        'height': height\n",
    "    }\n",
    "    \n",
    "    return (cam1, cam2)"
   ]
  },
  {
   "cell_type": "markdown",
   "metadata": {},
   "source": [
    "This function creates two dictionaries representing the two camera objects. The dictionaries store the cameras' values. Specifically:\n",
    "- the camera's position in space\n",
    "- the focal point (target) of the camera\n",
    "- the up direction of the camera, the focal length of the camera\n",
    "- the sensor height and width, and \n",
    "- the number of horizontal and vertical pixels (width and height)."
   ]
  },
  {
   "cell_type": "markdown",
   "metadata": {},
   "source": [
    "### Plot camera"
   ]
  },
  {
   "cell_type": "code",
   "execution_count": 6,
   "metadata": {},
   "outputs": [],
   "source": [
    "def camera_coordinate_system(cam):\n",
    "    # The axis of camera coordinate system\n",
    "    # prinicipal axis\n",
    "    zcam = cam['target'] - cam['position']\n",
    "    \n",
    "    # x axis should pend to principal axis and up direction\n",
    "    xcam = np.cross(zcam, cam['up'])\n",
    "    \n",
    "    # y axis should pend to principal axis and principal axis\n",
    "    ycam = np.cross(zcam, xcam)\n",
    "    \n",
    "    # normalize to unit vector\n",
    "    zcam = zcam / np.linalg.norm(zcam)\n",
    "    xcam = xcam / np.linalg.norm(xcam)\n",
    "    ycam = ycam / np.linalg.norm(ycam)\n",
    "    \n",
    "    origin = cam['position']\n",
    "    \n",
    "    return (xcam, ycam, zcam, origin)"
   ]
  },
  {
   "cell_type": "markdown",
   "metadata": {},
   "source": [
    "This function computes the coordinate system based on the input camera. Z is along the principal axis, X is perpendicular to the principal axis and runs up, and Y is perpendicular to both. It also returns the origin value of the coordinate system."
   ]
  },
  {
   "cell_type": "code",
   "execution_count": 11,
   "metadata": {},
   "outputs": [],
   "source": [
    "def plot_camera(fig, ax, cam, label = '', color=[0.75, 0.75, 0.75]):\n",
    "    if label:\n",
    "        ax.text(cam['position'][0],cam['position'][1],cam['position'][2], label)\n",
    "    \n",
    "    # Compute the camera coordinate system\n",
    "    xcam, ycam, zcam, origin = camera_coordinate_system(cam)\n",
    "    \n",
    "    # The four corners of the rectangle\n",
    "    # on the plane through focal points\n",
    "    d = np.linalg.norm(cam['target'] - cam['position'])\n",
    "    x = 0.5 * cam['film_width'] * d / cam['focal_length']\n",
    "    y = 0.5 * cam['film_height'] * d / cam['focal_length']\n",
    "    \n",
    "    P1 = origin + x * xcam + y * ycam + d * zcam\n",
    "    P2 = origin + x * xcam - y * ycam + d * zcam\n",
    "    P3 = origin - x * xcam - y * ycam + d * zcam\n",
    "    P4 = origin - x * xcam + y * ycam + d * zcam\n",
    "    \n",
    "    # Function to draw a line segment (p1, p2)\n",
    "    connect = lambda p1, p2: ax.plot([p1[0], p2[0]], [p1[1], p2[2]], color=color)\n",
    "    \n",
    "    # Plot line connect camera and target\n",
    "    connect(cam['position'], cam['target'])\n",
    "    \n",
    "    # Plot line connect P1, P2, P3, P4\n",
    "    Patch()..."
   ]
  },
  {
   "cell_type": "markdown",
   "metadata": {},
   "source": [
    "This plotting function plots a visual representation of the input camera coordinate system. It plots the rectangle that the camera is viewing and draws lines leading back to the origin.\n",
    "\n",
    "Unfortunately, there's really no good Pythonic equivalent of the matlab Patch function that does what the demo does so it seems my translation efforts end here. Maybe if I had more time I could try to hack a solution together, but unfortunately I don't have time for more than just a direct translation so the notebook won't actually run all together, but the idea should be there."
   ]
  },
  {
   "cell_type": "markdown",
   "metadata": {},
   "source": [
    "## Show the Virtual World"
   ]
  },
  {
   "cell_type": "code",
   "execution_count": 19,
   "metadata": {},
   "outputs": [
    {
     "name": "stdout",
     "output_type": "stream",
     "text": [
      "camera 1: \n",
      " {'position': [3.7500000000000004, 2.1650635094610964, 2.4999999999999996], 'target': [0, 0, 0], 'up': [0, 0, 1], 'focal_length': 0.06, 'film_width': 0.035, 'film_height': 0.035, 'width': 256, 'height': 256}\n",
      "\n",
      "camera 2: \n",
      " {'position': [2.1650635094610973, 3.75, 2.4999999999999996], 'target': [0, 0, 0], 'up': [0, 0, 1], 'focal_length': 0.06, 'film_width': 0.035, 'film_height': 0.035, 'width': 256, 'height': 256}\n"
     ]
    }
   ],
   "source": [
    "points, colors = create_points()\n",
    "cam1, cam2 = preset_cameras()\n",
    "# print('points: \\n', points)\n",
    "# print('colors: \\n', colors)\n",
    "print('camera 1: \\n', cam1)\n",
    "print('\\ncamera 2: \\n', cam2)"
   ]
  },
  {
   "cell_type": "markdown",
   "metadata": {},
   "source": [
    "Not much to say here. Just calling the methods from earlier."
   ]
  },
  {
   "cell_type": "code",
   "execution_count": null,
   "metadata": {
    "collapsed": true
   },
   "outputs": [],
   "source": [
    "def lookthrough(cam):\n",
    "    ..."
   ]
  },
  {
   "cell_type": "markdown",
   "metadata": {},
   "source": [
    "Not actually sure what the MATLAB does here... It sets the axes to the various camera axes."
   ]
  },
  {
   "cell_type": "code",
   "execution_count": null,
   "metadata": {
    "collapsed": true
   },
   "outputs": [],
   "source": [
    "fig, ax = plot_points(points, colors, 50)\n",
    "plot_camera(fig, ax, cam1, 'Cam1', [1, 0, 0])\n",
    "plot_camera(fig, ax, cam2, 'Cam2', [0, 0, 1])\n",
    "ax.set_title(\"The virtual world\")\n",
    "\n",
    "fig, ax = plot_points(points, colors, 50)\n",
    "plot_camera(fig, ax, cam1, '', [1, 0, 0])\n",
    "lookthrough(cam1)\n",
    "ax.set_title(\"Look through camera 1\")\n",
    "\n",
    "fig, ax = plot_points(points, colors, 50)\n",
    "plot_camera(fig, ax, cam2, '', [0, 0, 1])\n",
    "lookthrough(cam2)\n",
    "ax.set_title(\"Look through camera 2\")"
   ]
  },
  {
   "cell_type": "markdown",
   "metadata": {},
   "source": [
    "Plots the virtual world and the view through each camera."
   ]
  },
  {
   "cell_type": "markdown",
   "metadata": {},
   "source": [
    "## Camera Model\n",
    "\n",
    "### Euclidean transformation matrix"
   ]
  },
  {
   "cell_type": "code",
   "execution_count": 23,
   "metadata": {},
   "outputs": [],
   "source": [
    "def ExtrinsicsMtx(cam):\n",
    "    xcam, ycam, zcam, origin = camera_coordinate_system(cam)\n",
    "    # Rotation matrix\n",
    "    R = np.stack([xcam, ycam, zcam])\n",
    "    M = [R, np.dot(-origin, R)]\n",
    "    return M"
   ]
  },
  {
   "cell_type": "markdown",
   "metadata": {},
   "source": [
    "The first step in transforming the coordinate system from Camera to World is to perform a Euclidean transformation on the Camera coordinate system.\n",
    "\n",
    "$$\n",
    "\\begin{pmatrix}\n",
    "X_{cam} \\\\\n",
    "Y_{cam} \\\\\n",
    "Z_{cam} \\\\\n",
    "1\n",
    "\\end{pmatrix}\n",
    "=\n",
    "\\begin{bmatrix}\n",
    "R & \\mathbf{t} \\\\\n",
    "\\mathbf{O}^T & 1\n",
    "\\end{bmatrix}\n",
    "\\begin{pmatrix}\n",
    "X \\\\\n",
    "Y \\\\\n",
    "Z \\\\\n",
    "1\n",
    "\\end{pmatrix}\n",
    "$$\n",
    "\n",
    "Here $R$ is a $3 \\times 3$ rotation matrix and $\\mathbf t$ is a $3 \\times 1$ translation vector."
   ]
  },
  {
   "cell_type": "markdown",
   "metadata": {},
   "source": [
    "### Camera calibration matrix"
   ]
  },
  {
   "cell_type": "code",
   "execution_count": 24,
   "metadata": {},
   "outputs": [],
   "source": [
    "def IntrinsicsMtx(cam):\n",
    "    cx = (cam['width'] + 1) * .5\n",
    "    cy = (cam['height'] + 1) * .5\n",
    "    \n",
    "    fx = cam['focal_length'] * cam['width'] / cam['film_width']\n",
    "    fy = cam['focal_length'] * cam['height'] / cam['film_height']\n",
    "    \n",
    "    K = np.asarray([[fx, 0, 0],[0, fy, 0],[cx, cy, 1]])\n",
    "    return K"
   ]
  },
  {
   "cell_type": "markdown",
   "metadata": {},
   "source": [
    "The step above constructs the camera calibration matrix:\n",
    "$$\n",
    "K = \n",
    "\\begin{bmatrix}\n",
    "\\alpha_x & &x_0 \\\\\n",
    "&\\alpha_y & y_0 \\\\\n",
    "&&1\n",
    "\\end{bmatrix}\n",
    "$$\n",
    "\n",
    "Where $\\alpha_x$ and $alpha_y$ are the scaling parameters in the image $x$ and $y$ directions and $(x_0, y_0)$ is the principal point, the point where the optic axis intersects the image plane.\n",
    "\n",
    "Of note is that the aspect ratio of the image is equal to: $\\alpha_y/\\alpha_x$\n",
    "\n",
    "The camera matrix is important because:\n",
    "\n",
    "$$\n",
    "\\mathbf{x} =\n",
    "\\begin{pmatrix}\n",
    "x\\\\y\\\\1\n",
    "\\end{pmatrix} = \n",
    "\\frac{1}{f}\n",
    "\\begin{bmatrix}\n",
    "\\alpha_x & &x_0 \\\\\n",
    "&\\alpha_y & y_0 \\\\\n",
    "&&1\n",
    "\\end{bmatrix}\n",
    "\\begin{pmatrix}\n",
    "x_{cam}\\\\y_{cam}\\\\f\n",
    "\\end{pmatrix} =\n",
    "K\n",
    "\\begin{pmatrix}\n",
    "x_{cam}\\\\y_{cam}\\\\f\n",
    "\\end{pmatrix}\n",
    "$$"
   ]
  },
  {
   "cell_type": "markdown",
   "metadata": {},
   "source": [
    "### Camera matrix"
   ]
  },
  {
   "cell_type": "code",
   "execution_count": 25,
   "metadata": {},
   "outputs": [],
   "source": [
    "def CameraMtx(cam):\n",
    "    M = ExtrinsicsMtx(cam)\n",
    "    K = IntrinsicsMtx(cam)\n",
    "    P = np.dot(M, K)\n",
    "    return P"
   ]
  },
  {
   "cell_type": "markdown",
   "metadata": {},
   "source": [
    "Here we calculate the Camera Matrix $P$:\n",
    "$$\n",
    "P = K\n",
    "\\begin{bmatrix}\n",
    "1 & 0&0&0\\\\\n",
    "0&1&0&0\\\\\n",
    "0&0&1&0\n",
    "\\end{bmatrix}\n",
    "M\n",
    "$$\n",
    "\n",
    "and\n",
    "$$\n",
    "\\mathbf x = P\\mathbf X\n",
    "$$\n",
    "Thus we have defined the $3x4$ projection matrix from Euclidean 3-space to an image."
   ]
  },
  {
   "cell_type": "markdown",
   "metadata": {},
   "source": [
    "### Generate the image pair"
   ]
  },
  {
   "cell_type": "code",
   "execution_count": 26,
   "metadata": {},
   "outputs": [
    {
     "ename": "SyntaxError",
     "evalue": "unexpected EOF while parsing (<ipython-input-26-82cca958dda9>, line 1)",
     "output_type": "error",
     "traceback": [
      "\u001b[0;36m  File \u001b[0;32m\"<ipython-input-26-82cca958dda9>\"\u001b[0;36m, line \u001b[0;32m1\u001b[0m\n\u001b[0;31m    def world2image(cam, points3d):\u001b[0m\n\u001b[0m                                   ^\u001b[0m\n\u001b[0;31mSyntaxError\u001b[0m\u001b[0;31m:\u001b[0m unexpected EOF while parsing\n"
     ]
    }
   ],
   "source": [
    "..."
   ]
  },
  {
   "cell_type": "markdown",
   "metadata": {},
   "source": [
    "Here in the demo are a few functions that plot the projected points as images using the above functions. As my translation no longer actually works, there wasn't much point to translating this plotting code. If the above ever gets fixed then the plotting code should go here."
   ]
  },
  {
   "cell_type": "markdown",
   "metadata": {},
   "source": [
    "## Triangulation\n",
    "\"Given the cameras and point pairs, reconstruct the 3D positions in world coordinates of the point pairs.\"\n",
    "\n",
    "### Linear triangulation method"
   ]
  },
  {
   "cell_type": "code",
   "execution_count": 27,
   "metadata": {},
   "outputs": [],
   "source": [
    "def triangulate(points1, points2, P1, P2):\n",
    "    num_points = points1.size[0]\n",
    "    points3d = np.zeros((num_points, 3))\n",
    "    \n",
    "    # iterate over point pairs\n",
    "    for i in range(1, num_points):\n",
    "        points3d[i] = triangulationOnePoint(points1(i).T, points2(i).T, P1.T, P2.T)\n",
    "    return points3d"
   ]
  },
  {
   "cell_type": "markdown",
   "metadata": {},
   "source": [
    "This function is relatively simple as the next helper function is the one that does the heavy lifting. This one just iterates over all point pairs in the two sets of points and passes them to the helper function. The return is used to set the 3D reconstruction coordinates.\n",
    "\n",
    "The problem of triangulation can be formatted such that:\n",
    "\n",
    "If we know:\n",
    "* $P$ and $P'$\n",
    "* $\\mathbf x$ and $\\mathbf x'$\n",
    "We compute the reconstruction, $\\hat{x}$."
   ]
  },
  {
   "cell_type": "code",
   "execution_count": 30,
   "metadata": {},
   "outputs": [],
   "source": [
    "def triangulationOnePoint(point1, point2, P1, P2):\n",
    "    # Construct A\n",
    "    A = np.zeros((4,4))\n",
    "    A[0:2] = point1.dot(P1[2]) - P1[0:2]\n",
    "    A[2:4] = point2.dot(P2[2]) - P2[0:2]\n",
    "    \n",
    "    # Solve the optimization problem: min_x ||Ax|| s.t. ||x||=1\n",
    "    _,_,V = numpy.linalg.svd(A)\n",
    "    X = V[:, -1]\n",
    "    X = X/X[-1]\n",
    "    \n",
    "    # Homogenous -> Inhomogenous\n",
    "    point3d = X[0:3]\n",
    "    return point3d"
   ]
  },
  {
   "cell_type": "markdown",
   "metadata": {},
   "source": [
    "Here we are calculating the actual reconstruction of each point for each point pair. We do this by solving the system of linear equations:\n",
    "\n",
    "$$\n",
    "\\begin{bmatrix}\n",
    "x\\mathbf p^{3T} - \\mathbf p^{1T}\\\\\n",
    "y\\mathbf p^{3T} - \\mathbf p^{2T}\\\\\n",
    "x'\\mathbf p'^{3T} - \\mathbf p'^{1T}\\\\\n",
    "x\\mathbf p'^{3T} - \\mathbf p'^{2T}\n",
    "\\end{bmatrix}\n",
    "\\mathbf x\n",
    "=\n",
    "0\n",
    "$$"
   ]
  },
  {
   "cell_type": "code",
   "execution_count": null,
   "metadata": {},
   "outputs": [],
   "source": [
    "..."
   ]
  },
  {
   "cell_type": "markdown",
   "metadata": {},
   "source": [
    "The rest is just plotting stuff to see the reconstruction!"
   ]
  }
 ],
 "metadata": {
  "kernelspec": {
   "display_name": "Python 3",
   "language": "python",
   "name": "python3"
  },
  "language_info": {
   "codemirror_mode": {
    "name": "ipython",
    "version": 3
   },
   "file_extension": ".py",
   "mimetype": "text/x-python",
   "name": "python",
   "nbconvert_exporter": "python",
   "pygments_lexer": "ipython3",
   "version": "3.6.4"
  }
 },
 "nbformat": 4,
 "nbformat_minor": 2
}
