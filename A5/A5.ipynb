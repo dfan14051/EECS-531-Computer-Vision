{
 "cells": [
  {
   "cell_type": "markdown",
   "metadata": {},
   "source": [
    "# EECS 531: Computer Vision Assignment 5\n",
    "**David Fan**\n",
    "\n",
    "5/2/18"
   ]
  },
  {
   "cell_type": "markdown",
   "metadata": {},
   "source": [
    "In this notebook we will be translating the geometric computer vision demo from MATLAB into Python and explaining what each section of the code does with math and relevant background."
   ]
  },
  {
   "cell_type": "markdown",
   "metadata": {},
   "source": [
    "## Prerequisites\n",
    "These are different from the demo since the ones in the demo are about setting up the Jupyter MATLAB kernel. Here we'll just be doing our standard imports."
   ]
  },
  {
   "cell_type": "code",
   "execution_count": 10,
   "metadata": {
    "collapsed": true
   },
   "outputs": [],
   "source": [
    "import numpy as np\n",
    "import matplotlib.pyplot as plt\n",
    "from mpl_toolkits.mplot3d import Axes3D"
   ]
  },
  {
   "cell_type": "markdown",
   "metadata": {},
   "source": [
    "## Build a Simple Virtual World\n",
    "\n",
    "### Add something into the world"
   ]
  },
  {
   "cell_type": "code",
   "execution_count": 14,
   "metadata": {},
   "outputs": [],
   "source": [
    "def create_points():\n",
    "    [Z, Y, X] = np.meshgrid([-0.5, 0, 0.5], [-0.5, 0, 0.5], [-0.5, 0., 0.5], indexing ='ij')\n",
    "    \n",
    "    # This could easily be wrong. MATLAB matrix to Numpy array conversion can get hairy.\n",
    "    # The line below attempts to match the matlab line: `points = [X(:), Y(:), Z(:)];`\n",
    "    # The difference between row major and column major may cause issues down the line though.\n",
    "    points = np.column_stack((X.flatten(order='F'), Y.flatten(order='F'), Z.flatten(order='F')))\n",
    "    \n",
    "    # No clue how to replicate MATLAB's Jet function\n",
    "    colors = None\n",
    "    \n",
    "    return (points, colors)"
   ]
  },
  {
   "cell_type": "markdown",
   "metadata": {},
   "source": [
    "This function is appropriately named. It returns a set of coordinates for points to be plotted later on as well as a color value for each point from the Jet colormap."
   ]
  },
  {
   "cell_type": "markdown",
   "metadata": {},
   "source": [
    "### Plot the points"
   ]
  },
  {
   "cell_type": "code",
   "execution_count": 15,
   "metadata": {
    "collapsed": true
   },
   "outputs": [],
   "source": [
    "def plot_points(points, colors, size = 50):\n",
    "    fig, ax = plt.subplot(projection='3d')\n",
    "    ax.scatter(points[0], points[1], points[2], colors, size)"
   ]
  },
  {
   "cell_type": "markdown",
   "metadata": {},
   "source": [
    "This is relatively straight forward. It simply creates a 3D scatter plot using a set of points and colors."
   ]
  },
  {
   "cell_type": "markdown",
   "metadata": {},
   "source": [
    "### Set up a pair of cameras"
   ]
  },
  {
   "cell_type": "code",
   "execution_count": 16,
   "metadata": {
    "collapsed": true
   },
   "outputs": [],
   "source": [
    "def preset_cameras():\n",
    "    r = 5\n",
    "    focal_length = 0.06\n",
    "    width = 256\n",
    "    height = 256\n",
    "    film_width = 0.035\n",
    "    film_height = 0.035\n",
    "    \n",
    "    alpha = np.pi/6\n",
    "    beta = np.pi/6\n",
    "    cam1 = {\n",
    "        'position': [r * np.cos(beta) * np.cos(alpha) ,  r * np.cos(beta) * np.sin(alpha), r * np.sin(beta)],\n",
    "        'target': [0, 0, 0],\n",
    "        'up': [0, 0, 1],\n",
    "        'focal_length': focal_length,\n",
    "        'film_width': film_width,\n",
    "        'film_height': film_height,\n",
    "        'width': width,\n",
    "        'height': height\n",
    "    }\n",
    "    \n",
    "    alpha = np.pi/3\n",
    "    beta = np.pi/6\n",
    "    cam2 = {\n",
    "        'position': [r * np.cos(beta) * np.cos(alpha) ,  r * np.cos(beta) * np.sin(alpha), r * np.sin(beta)],\n",
    "        'target': [0, 0, 0],\n",
    "        'up': [0, 0, 1],\n",
    "        'focal_length': focal_length,\n",
    "        'film_width': film_width,\n",
    "        'film_height': film_height,\n",
    "        'width': width,\n",
    "        'height': height\n",
    "    }\n",
    "    \n",
    "    return (cam1, cam2)"
   ]
  },
  {
   "cell_type": "markdown",
   "metadata": {},
   "source": [
    "This function creates two dictionaries representing the two camera objects. The dictionaries store the cameras' values. Specifically:\n",
    "- the camera's position in space\n",
    "- the focal point (target) of the camera\n",
    "- the up direction of the camera, the focal length of the camera\n",
    "- the sensor height and width, and \n",
    "- the number of horizontal and vertical pixels (width and height)."
   ]
  },
  {
   "cell_type": "markdown",
   "metadata": {},
   "source": [
    "### Plot camera"
   ]
  },
  {
   "cell_type": "code",
   "execution_count": null,
   "metadata": {
    "collapsed": true
   },
   "outputs": [],
   "source": [
    "def camera_coordinate_system(cam):\n",
    "    "
   ]
  },
  {
   "cell_type": "markdown",
   "metadata": {},
   "source": [
    "This function computes the coordinate system based on the input camera. Z is along the principal axis, X is perpendicular to the principal axis and runs up, and Y is perpendicular to both. It also returns the origin value of the coordinate system."
   ]
  },
  {
   "cell_type": "code",
   "execution_count": null,
   "metadata": {
    "collapsed": true
   },
   "outputs": [],
   "source": [
    "def plot_camera(cam, label = '', color=[0.75, 0.75, 0.75]):\n",
    "    if not label:\n",
    "        # Add label"
   ]
  },
  {
   "cell_type": "markdown",
   "metadata": {},
   "source": [
    "This plotting function plots a visual representation of the input camera coordinate system. It plots the rectangle that the camera is viewing and draws lines leading back to the origin."
   ]
  },
  {
   "cell_type": "markdown",
   "metadata": {},
   "source": [
    "## Show the Virtual World"
   ]
  },
  {
   "cell_type": "code",
   "execution_count": 19,
   "metadata": {},
   "outputs": [
    {
     "name": "stdout",
     "output_type": "stream",
     "text": [
      "camera 1: \n",
      " {'position': [3.7500000000000004, 2.1650635094610964, 2.4999999999999996], 'target': [0, 0, 0], 'up': [0, 0, 1], 'focal_length': 0.06, 'film_width': 0.035, 'film_height': 0.035, 'width': 256, 'height': 256}\n",
      "\n",
      "camera 2: \n",
      " {'position': [2.1650635094610973, 3.75, 2.4999999999999996], 'target': [0, 0, 0], 'up': [0, 0, 1], 'focal_length': 0.06, 'film_width': 0.035, 'film_height': 0.035, 'width': 256, 'height': 256}\n"
     ]
    }
   ],
   "source": [
    "points, colors = create_points()\n",
    "cam1, cam2 = preset_cameras()\n",
    "# print('points: \\n', points)\n",
    "# print('colors: \\n', colors)\n",
    "print('camera 1: \\n', cam1)\n",
    "print('\\ncamera 2: \\n', cam2)"
   ]
  },
  {
   "cell_type": "markdown",
   "metadata": {},
   "source": [
    "Not much to say here. Just calling the methods from earlier."
   ]
  },
  {
   "cell_type": "code",
   "execution_count": null,
   "metadata": {
    "collapsed": true
   },
   "outputs": [],
   "source": [
    "def lookthrough(cam):\n",
    "    "
   ]
  },
  {
   "cell_type": "markdown",
   "metadata": {},
   "source": [
    "Not actually sure what the MATLAB does here... It sets the axes to the various camera axes."
   ]
  },
  {
   "cell_type": "code",
   "execution_count": null,
   "metadata": {
    "collapsed": true
   },
   "outputs": [],
   "source": [
    "plot_points..."
   ]
  },
  {
   "cell_type": "markdown",
   "metadata": {},
   "source": [
    "Plots the virtual world and the view through each camera."
   ]
  },
  {
   "cell_type": "markdown",
   "metadata": {},
   "source": [
    "## Camera Model\n",
    "\n",
    "### Euclidean transformation matrix"
   ]
  },
  {
   "cell_type": "code",
   "execution_count": null,
   "metadata": {
    "collapsed": true
   },
   "outputs": [],
   "source": [
    "def ExtrinsicsMtx(cam):\n",
    "    xcam, ycam, zcam, origin = camera_coordinate_system(cam)\n",
    "    # Rotation matrix\n",
    "    R = "
   ]
  },
  {
   "cell_type": "markdown",
   "metadata": {},
   "source": [
    "The first step in transforming the coordinate system from Camera to World is to perform a Euclidean transformation on the Camera coordinate system.\n",
    "\n",
    "$$\n",
    "\\begin{pmatrix}\n",
    "X_{cam} \\\\\n",
    "Y_{cam} \\\\\n",
    "Z_{cam} \\\\\n",
    "1\n",
    "\\end{pmatrix}\n",
    "=\n",
    "\\begin{bmatrix}\n",
    "R & \\mathbf{t} \\\\\n",
    "\\mathbf{O}^T & 1\n",
    "\\end{bmatrix}\n",
    "\\begin{pmatrix}\n",
    "X \\\\\n",
    "Y \\\\\n",
    "Z \\\\\n",
    "1\n",
    "\\end{pmatrix}\n",
    "$$\n",
    "\n",
    "Here $R$ is a $3 \\times 3$ rotation matrix and $\\mathbf t$ is a $3 \\times 1$ translation vector."
   ]
  },
  {
   "cell_type": "markdown",
   "metadata": {},
   "source": [
    "### Camera calibration matrix"
   ]
  },
  {
   "cell_type": "code",
   "execution_count": null,
   "metadata": {
    "collapsed": true
   },
   "outputs": [],
   "source": []
  },
  {
   "cell_type": "markdown",
   "metadata": {},
   "source": [
    "The step above constructs the camera calibration matrix"
   ]
  },
  {
   "cell_type": "markdown",
   "metadata": {},
   "source": [
    "### Generate the image pair"
   ]
  },
  {
   "cell_type": "code",
   "execution_count": null,
   "metadata": {
    "collapsed": true
   },
   "outputs": [],
   "source": []
  },
  {
   "cell_type": "markdown",
   "metadata": {},
   "source": []
  },
  {
   "cell_type": "markdown",
   "metadata": {},
   "source": [
    "## Triangulation\n",
    "\n",
    "### Linear triangulation method"
   ]
  },
  {
   "cell_type": "code",
   "execution_count": null,
   "metadata": {
    "collapsed": true
   },
   "outputs": [],
   "source": []
  },
  {
   "cell_type": "markdown",
   "metadata": {},
   "source": []
  }
 ],
 "metadata": {
  "kernelspec": {
   "display_name": "Python 3",
   "language": "python",
   "name": "python3"
  },
  "language_info": {
   "codemirror_mode": {
    "name": "ipython",
    "version": 3
   },
   "file_extension": ".py",
   "mimetype": "text/x-python",
   "name": "python",
   "nbconvert_exporter": "python",
   "pygments_lexer": "ipython3",
   "version": "3.6.4"
  }
 },
 "nbformat": 4,
 "nbformat_minor": 2
}
